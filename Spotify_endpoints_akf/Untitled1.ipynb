{
 "cells": [
  {
   "cell_type": "code",
   "execution_count": 1,
   "metadata": {},
   "outputs": [
    {
     "ename": "ModuleNotFoundError",
     "evalue": "No module named 'spotify_top_50'",
     "output_type": "error",
     "traceback": [
      "\u001b[0;31m---------------------------------------------------------------------------\u001b[0m",
      "\u001b[0;31mModuleNotFoundError\u001b[0m                       Traceback (most recent call last)",
      "\u001b[0;32m<ipython-input-1-d09293daa2aa>\u001b[0m in \u001b[0;36m<module>\u001b[0;34m\u001b[0m\n\u001b[0;32m----> 1\u001b[0;31m \u001b[0;32mfrom\u001b[0m \u001b[0mspotify_top_50\u001b[0m \u001b[0;32mimport\u001b[0m \u001b[0mtop_50_stats\u001b[0m\u001b[0;34m\u001b[0m\u001b[0;34m\u001b[0m\u001b[0m\n\u001b[0m\u001b[1;32m      2\u001b[0m \u001b[0;32mimport\u001b[0m \u001b[0mtop_50_playlists\u001b[0m\u001b[0;34m\u001b[0m\u001b[0;34m\u001b[0m\u001b[0m\n\u001b[1;32m      3\u001b[0m \u001b[0;32mimport\u001b[0m \u001b[0mmatplotlib\u001b[0m\u001b[0;34m.\u001b[0m\u001b[0mpyplot\u001b[0m \u001b[0;32mas\u001b[0m \u001b[0mplt\u001b[0m\u001b[0;34m\u001b[0m\u001b[0;34m\u001b[0m\u001b[0m\n",
      "\u001b[0;31mModuleNotFoundError\u001b[0m: No module named 'spotify_top_50'"
     ]
    }
   ],
   "source": [
    "from spotify_top_50 import top_50_stats \n",
    "import top_50_playlists\n",
    "import matplotlib.pyplot as plt"
   ]
  },
  {
   "cell_type": "code",
   "execution_count": 2,
   "metadata": {},
   "outputs": [
    {
     "name": "stdout",
     "output_type": "stream",
     "text": [
      "Calling song 0\n",
      "Calling song 1\n",
      "Calling song 2\n",
      "Calling song 3\n",
      "Calling song 4\n",
      "Calling song 5\n",
      "Calling song 6\n",
      "Calling song 7\n",
      "Calling song 8\n",
      "Calling song 9\n",
      "Calling song 10\n",
      "Calling song 11\n",
      "Calling song 12\n",
      "Calling song 13\n",
      "Calling song 14\n",
      "Calling song 15\n",
      "Calling song 16\n",
      "Calling song 17\n",
      "Calling song 18\n",
      "Calling song 19\n",
      "Calling song 20\n",
      "Calling song 21\n",
      "Calling song 22\n",
      "Calling song 23\n",
      "Calling song 24\n",
      "Calling song 25\n",
      "Calling song 26\n",
      "Calling song 27\n",
      "Calling song 28\n",
      "Calling song 29\n",
      "Calling song 30\n",
      "Calling song 31\n",
      "Calling song 32\n",
      "Calling song 33\n",
      "Calling song 34\n",
      "Calling song 35\n",
      "Calling song 36\n",
      "Calling song 37\n",
      "Calling song 38\n",
      "Calling song 39\n",
      "Calling song 40\n",
      "Calling song 41\n",
      "Calling song 42\n",
      "Calling song 43\n",
      "Calling song 44\n",
      "Calling song 45\n",
      "Calling song 46\n",
      "Calling song 47\n",
      "Calling song 48\n",
      "Calling song 49\n"
     ]
    }
   ],
   "source": [
    "features_df = top_50_stats(top_50_playlists.top_50_US)"
   ]
  },
  {
   "cell_type": "code",
   "execution_count": 19,
   "metadata": {},
   "outputs": [
    {
     "data": {
      "text/plain": [
       "-6.643439999999999"
      ]
     },
     "execution_count": 19,
     "metadata": {},
     "output_type": "execute_result"
    }
   ],
   "source": [
    "features_df['Loudness'].mean()"
   ]
  },
  {
   "cell_type": "code",
   "execution_count": 15,
   "metadata": {},
   "outputs": [
    {
     "data": {
      "text/plain": [
       "<matplotlib.collections.PathCollection at 0x11be83c18>"
      ]
     },
     "execution_count": 15,
     "metadata": {},
     "output_type": "execute_result"
    },
    {
     "data": {
      "image/png": "[encoded data removed]",
      "text/plain": [
       "<Figure size 432x288 with 1 Axes>"
      ]
     },
     "metadata": {
      "needs_background": "light"
     },
     "output_type": "display_data"
    }
   ],
   "source": [
    "plt.scatter(features_df['Valence'], features_df['Tempo'])"
   ]
  },
  {
   "cell_type": "code",
   "execution_count": 16,
   "metadata": {},
   "outputs": [
    {
     "name": "stdout",
     "output_type": "stream",
     "text": [
      "Calling song 0\n",
      "Calling song 1\n",
      "Calling song 2\n",
      "Calling song 3\n",
      "Calling song 4\n",
      "Calling song 5\n",
      "Calling song 6\n",
      "Calling song 7\n",
      "Calling song 8\n",
      "Calling song 9\n",
      "Calling song 10\n",
      "Calling song 11\n",
      "Calling song 12\n",
      "Calling song 13\n",
      "Calling song 14\n",
      "Calling song 15\n",
      "Calling song 16\n",
      "Calling song 17\n",
      "Calling song 18\n",
      "Calling song 19\n",
      "Calling song 20\n",
      "Calling song 21\n",
      "Calling song 22\n",
      "Calling song 23\n",
      "Calling song 24\n",
      "Calling song 25\n",
      "Calling song 26\n",
      "Calling song 27\n",
      "Calling song 28\n",
      "Calling song 29\n",
      "Calling song 30\n",
      "Calling song 31\n",
      "Calling song 32\n",
      "Calling song 33\n",
      "Calling song 34\n",
      "Calling song 35\n",
      "Calling song 36\n",
      "Calling song 37\n",
      "Calling song 38\n",
      "Calling song 39\n",
      "Calling song 40\n",
      "Calling song 41\n",
      "Calling song 42\n",
      "Calling song 43\n",
      "Calling song 44\n",
      "Calling song 45\n",
      "Calling song 46\n",
      "Calling song 47\n",
      "Calling song 48\n",
      "Calling song 49\n"
     ]
    }
   ],
   "source": [
    "features_IN = top_50_stats(top_50_playlists.top_50_IN)"
   ]
  },
  {
   "cell_type": "code",
   "execution_count": 18,
   "metadata": {},
   "outputs": [
    {
     "data": {
      "text/plain": [
       "-5.495519999999998"
      ]
     },
     "execution_count": 18,
     "metadata": {},
     "output_type": "execute_result"
    }
   ],
   "source": [
    "features_IN['Loudness'].mean()"
   ]
  },
  {
   "cell_type": "code",
   "execution_count": null,
   "metadata": {},
   "outputs": [],
   "source": []
  }
 ],
 "metadata": {
  "kernelspec": {
   "display_name": "Python [conda env:PythonData] *",
   "language": "python",
   "name": "conda-env-PythonData-py"
  },
  "language_info": {
   "codemirror_mode": {
    "name": "ipython",
    "version": 3
   },
   "file_extension": ".py",
   "mimetype": "text/x-python",
   "name": "python",
   "nbconvert_exporter": "python",
   "pygments_lexer": "ipython3",
   "version": "3.6.7"
  }
 },
 "nbformat": 4,
 "nbformat_minor": 2
}
